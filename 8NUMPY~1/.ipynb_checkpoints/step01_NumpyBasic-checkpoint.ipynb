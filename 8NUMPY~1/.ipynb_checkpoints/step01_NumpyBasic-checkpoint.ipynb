{
 "cells": [
  {
   "cell_type": "markdown",
   "metadata": {
    "school_cell_uuid": "1d5d014482ab49ad8d4028b5ce0dcdeb",
    "slideshow": {
     "slide_type": "notes"
    }
   },
   "source": [
    "# NumPy 학습"
   ]
  },
  {
   "cell_type": "markdown",
   "metadata": {
    "school_cell_uuid": "f7843625353f44dea6e562e075d86228"
   },
   "source": [
    "1. 파이썬에서 배열을 사용하기 위한 수치 해석용 표준 패키지\n",
    "- 적은 메모리로 데이터를 빠르게 처리할 수 있음\n",
    "- 다차원의 배열 자료구조 클래스인 ndarray 클래스를 지원하며 벡터와 행렬을 사용하는 선형대수 계산에 주로 사용\n",
    "- 배열 연산은 C로 구현된 내부 반복문을 사용하기 때문에 파이썬 반복문에 비해 속도가 빠름\n",
    "- 벡터화 연산(vectorized operation)을 이용하여 간단한 코드로도 복잡한 선형 대수 연산을 수행할 수 있음\n",
    "- 배열 인덱싱(array indexing)을 사용한 질의(Query) 기능을 이용하여 간단한 코드로도 복잡한 수식을 계산할 수 있음\n",
    "- C언어의 배열처럼 연속적인 메모리 배치를 하기 때문에 모든 원소가 같은 자료형이어야 함\n",
    "- 이러한 제약사항이 있는 대신 원소에 대한 접근과 반복문 실행이 빨라짐\n",
    "- ndarray 는 N-dimensional Array의 약자로 1차원, 2차원,  3차원 배열 등의 다차원 배열 자료 구조를 지원\n",
    "- **2차원 배열은 행렬(matrix)** 이라고 하는데 행렬에서는 가로줄을 행 *(row)이라고 하고 세로줄을 *열(column)이라 함\n",
    "- 다차원 배열 : 리스트의 리스트(list of list)를 이용하면 2차원 배열을 생성할 수 있음. \n",
    "- 안쪽 리스트의 길이는 행렬의 열의 수 즉, 가로 크기가 되고 바깥쪽 리스트의 길이는 행렬의 행의 수, 즉 세로 크기를 의미\n",
    "- url<br>\n",
    "http://www.numpy.org/<br>\n",
    "https://docs.scipy.org/doc/numpy-1.15.0/reference/index.html#reference\n"
   ]
  },
  {
   "cell_type": "markdown",
   "metadata": {
    "school_cell_uuid": "e3b31d1562df432198df5f1a4e74f992"
   },
   "source": [
    "### NumPy 패키지 import\n",
    "\n",
    "> NumPy는 np라는 이름으로 임포트하는 것이 관례"
   ]
  },
  {
   "cell_type": "code",
   "execution_count": 1,
   "metadata": {},
   "outputs": [
    {
     "name": "stdout",
     "output_type": "stream",
     "text": [
      "Name: numpy\n",
      "Version: 1.14.3\n",
      "Summary: NumPy: array processing for numbers, strings, records, and objects.\n",
      "Home-page: http://www.numpy.org\n",
      "Author: Travis E. Oliphant et al.\n",
      "Author-email: None\n",
      "License: BSD\n",
      "Location: c:\\users\\playdata\\appdata\\local\\continuum\\anaconda3\\lib\\site-packages\n",
      "Requires: \n",
      "Required-by: tensorflow, tensorboard, tables, seaborn, PyWavelets, pytest-doctestplus, pytest-arraydiff, patsy, pandas, odo, numexpr, numba, mkl-random, mkl-fft, matplotlib, Keras-Preprocessing, Keras-Applications, h5py, datashape, Bottleneck, bokeh, bkcharts, astropy\n"
     ]
    }
   ],
   "source": [
    "!pip show numpy"
   ]
  },
  {
   "cell_type": "code",
   "execution_count": 2,
   "metadata": {
    "school_cell_uuid": "7dcc7126d45b41569e7f8271381184dc"
   },
   "outputs": [],
   "source": [
    "import numpy as np"
   ]
  },
  {
   "cell_type": "markdown",
   "metadata": {},
   "source": [
    "### Numpy 필요성 인지를 위한 간략 코드\n",
    "- 반복문 실행 시간 비교하기"
   ]
  },
  {
   "cell_type": "code",
   "execution_count": 3,
   "metadata": {},
   "outputs": [],
   "source": [
    "numpyArray = np.arange(10000000)\n",
    "plist = list( range(10000000) )"
   ]
  },
  {
   "cell_type": "code",
   "execution_count": 4,
   "metadata": {},
   "outputs": [
    {
     "name": "stdout",
     "output_type": "stream",
     "text": [
      "Wall time: 267 ms\n",
      "Wall time: 11.5 s\n"
     ]
    }
   ],
   "source": [
    "%time for _ in range(10): numpyArray = numpyArray * 2\n",
    "%time for _ in range(10): plist = [x * 2 for x in plist]"
   ]
  },
  {
   "cell_type": "markdown",
   "metadata": {
    "school_cell_uuid": "ee071c08f58c41f68f4b6da25ebecccd"
   },
   "source": [
    "### NumPy 모듈을 사용한 1차원 배열 만들기"
   ]
  },
  {
   "cell_type": "markdown",
   "metadata": {
    "school_cell_uuid": "e56e2a3ee38045f7ade1c9d0269aba19"
   },
   "source": [
    "- array 함수에 리스트를 넣으면 배열로 변환"
   ]
  },
  {
   "cell_type": "code",
   "execution_count": 5,
   "metadata": {},
   "outputs": [
    {
     "name": "stdout",
     "output_type": "stream",
     "text": [
      "[0, 1, 2, 3, 4, 5, 6, 7, 8, 9]\n"
     ]
    },
    {
     "data": {
      "text/plain": [
       "list"
      ]
     },
     "execution_count": 5,
     "metadata": {},
     "output_type": "execute_result"
    }
   ],
   "source": [
    "data = [0, 1, 2, 3, 4, 5, 6, 7, 8, 9]\n",
    "print(data)\n",
    "type(data)"
   ]
  },
  {
   "cell_type": "code",
   "execution_count": 14,
   "metadata": {
    "school_cell_uuid": "afeba59dccfe4175b4d3369a1e88b525"
   },
   "outputs": [],
   "source": [
    "# 정수 배열\n",
    "data = np.array(data)\n",
    "\n"
   ]
  },
  {
   "cell_type": "code",
   "execution_count": 15,
   "metadata": {},
   "outputs": [
    {
     "data": {
      "text/plain": [
       "numpy.ndarray"
      ]
     },
     "execution_count": 15,
     "metadata": {},
     "output_type": "execute_result"
    }
   ],
   "source": [
    "type(data)"
   ]
  },
  {
   "cell_type": "code",
   "execution_count": 16,
   "metadata": {},
   "outputs": [],
   "source": [
    "#dtype을 이용한 실수 배열 타입\n",
    "\n",
    "data = np.array(data,dtype = 'int32')\n"
   ]
  },
  {
   "cell_type": "code",
   "execution_count": 17,
   "metadata": {},
   "outputs": [
    {
     "data": {
      "text/plain": [
       "numpy.ndarray"
      ]
     },
     "execution_count": 17,
     "metadata": {},
     "output_type": "execute_result"
    }
   ],
   "source": [
    "type(data)"
   ]
  },
  {
   "cell_type": "markdown",
   "metadata": {},
   "source": [
    "### NumPy 모듈을 사용한  2차원 배열 만들기"
   ]
  },
  {
   "cell_type": "code",
   "execution_count": 23,
   "metadata": {},
   "outputs": [
    {
     "name": "stdout",
     "output_type": "stream",
     "text": [
      "(2, 5)\n"
     ]
    }
   ],
   "source": [
    "data = [[0, 1, 2, 3, 4], [5, 6, 7, 8, 9]]\n",
    "data = np.array(data)\n",
    "print(data.shape)"
   ]
  },
  {
   "cell_type": "markdown",
   "metadata": {
    "school_cell_uuid": "bc89de5ce6a940338743361ca3e7daff"
   },
   "source": [
    "### NumPy 모듈을 사용한  3차원 배열 만들기"
   ]
  },
  {
   "cell_type": "markdown",
   "metadata": {
    "school_cell_uuid": "efadb2d4c81a4a6b87f55661b01da5e7"
   },
   "source": [
    "리스트의 리스트의 리스트를 이용하면 3차원 배열도 생성할 수 있음<br>\n",
    "크기를 나타낼 때는 가장 **바깥쪽 리스트의 길이부터 가장 안쪽 리스트 길이의 순서로** 표시<br>\n",
    "예를 들어 2 x 3 x 4 배열은 다음과 같이 구성"
   ]
  },
  {
   "cell_type": "code",
   "execution_count": 24,
   "metadata": {},
   "outputs": [
    {
     "data": {
      "text/plain": [
       "(2, 3, 4)"
      ]
     },
     "execution_count": 24,
     "metadata": {},
     "output_type": "execute_result"
    }
   ],
   "source": [
    "data = [[[1,2,3,4],[1,2,3,4],[1,2,3,4]],\n",
    "        [[1,2,3,4],[1,2,3,4],[1,2,3,4]]]\n",
    "data = np.array(data)"
   ]
  },
  {
   "cell_type": "code",
   "execution_count": 29,
   "metadata": {},
   "outputs": [
    {
     "data": {
      "text/plain": [
       "array([[[   1,    2,    3,    4],\n",
       "        [   1,    2,    3,    4],\n",
       "        [   1,    2,    3,    4]],\n",
       "\n",
       "       [[   1,    2,    3,    4],\n",
       "        [1111,    2,    3,    4],\n",
       "        [   1,    2,    3,    4]]])"
      ]
     },
     "execution_count": 29,
     "metadata": {},
     "output_type": "execute_result"
    }
   ],
   "source": [
    "data[1][1][0] = 1111\n",
    "data"
   ]
  },
  {
   "cell_type": "markdown",
   "metadata": {
    "school_cell_uuid": "c6f7e632b6d046efac91acedd7bad09a"
   },
   "source": [
    "3차원 배열의 행, 열, 깊이"
   ]
  },
  {
   "cell_type": "code",
   "execution_count": 25,
   "metadata": {},
   "outputs": [
    {
     "data": {
      "text/plain": [
       "(2, 3, 4)"
      ]
     },
     "execution_count": 25,
     "metadata": {},
     "output_type": "execute_result"
    }
   ],
   "source": [
    "data.shape"
   ]
  },
  {
   "cell_type": "markdown",
   "metadata": {},
   "source": [
    "### NumPy 함수를 사용하여 배열 생성하기\n",
    "\n",
    "1. 규모가 큰 배열의 경우에는 NumPy에 내장된 루틴을 사용해서 처음부터 배열을 생성하는 것이 효율적\n",
    "- 주요 함수<br>\n",
    "a. zeros, ones <br>\n",
    "b. zeros_like, ones_like<br>\n",
    "c. empty<br>\n",
    "d. arange : 특정한 규칙에 따라 증가하는 수열 만들기<br>\n",
    "e. linspace, logspace : 선형 구간 혹은 로그 구간을 지정한 구간의 수만큼 분할<br>\n",
    "f. rand, randn<br>"
   ]
  },
  {
   "cell_type": "code",
   "execution_count": 40,
   "metadata": {},
   "outputs": [
    {
     "data": {
      "text/plain": [
       "array([[[0, 0, 0, 0],\n",
       "        [0, 0, 0, 0],\n",
       "        [0, 0, 0, 0],\n",
       "        [0, 0, 0, 0]],\n",
       "\n",
       "       [[0, 0, 0, 0],\n",
       "        [0, 0, 0, 0],\n",
       "        [0, 0, 0, 0],\n",
       "        [0, 0, 0, 0]],\n",
       "\n",
       "       [[0, 0, 0, 0],\n",
       "        [0, 0, 0, 0],\n",
       "        [0, 0, 0, 0],\n",
       "        [0, 0, 0, 0]]])"
      ]
     },
     "execution_count": 40,
     "metadata": {},
     "output_type": "execute_result"
    }
   ],
   "source": [
    "zeros = np.zeros((3,4,4),dtype = 'int32')\n",
    "zeros\n"
   ]
  },
  {
   "cell_type": "code",
   "execution_count": 41,
   "metadata": {},
   "outputs": [
    {
     "data": {
      "text/plain": [
       "array([[1., 1., 1., 1., 1.],\n",
       "       [1., 1., 1., 1., 1.],\n",
       "       [1., 1., 1., 1., 1.],\n",
       "       [1., 1., 1., 1., 1.]])"
      ]
     },
     "execution_count": 41,
     "metadata": {},
     "output_type": "execute_result"
    }
   ],
   "source": [
    "ones = np.ones((4,5))\n",
    "ones"
   ]
  },
  {
   "cell_type": "code",
   "execution_count": 42,
   "metadata": {},
   "outputs": [
    {
     "data": {
      "text/plain": [
       "array([[0., 0., 0., 0.],\n",
       "       [0., 0., 0., 0.],\n",
       "       [0., 0., 0., 0.]])"
      ]
     },
     "execution_count": 42,
     "metadata": {},
     "output_type": "execute_result"
    }
   ],
   "source": [
    "empty = np.empty((3,4,))\n",
    "empty"
   ]
  },
  {
   "cell_type": "code",
   "execution_count": 53,
   "metadata": {},
   "outputs": [
    {
     "data": {
      "text/plain": [
       "array([[0, 0, 0],\n",
       "       [0, 0, 0]])"
      ]
     },
     "execution_count": 53,
     "metadata": {},
     "output_type": "execute_result"
    }
   ],
   "source": [
    "x = np.arange(6)\n",
    "x = x.reshape((2,3))\n",
    "y = np.zeros_like(x)\n",
    "y"
   ]
  },
  {
   "cell_type": "code",
   "execution_count": 55,
   "metadata": {},
   "outputs": [
    {
     "data": {
      "text/plain": [
       "array([[5, 5, 5, 5, 5],\n",
       "       [5, 5, 5, 5, 5],\n",
       "       [5, 5, 5, 5, 5]])"
      ]
     },
     "execution_count": 55,
     "metadata": {},
     "output_type": "execute_result"
    }
   ],
   "source": [
    "data = np.full((3,5),5)\n",
    "data"
   ]
  },
  {
   "cell_type": "code",
   "execution_count": 57,
   "metadata": {},
   "outputs": [
    {
     "data": {
      "text/plain": [
       "array([0, 2, 4, 6, 8])"
      ]
     },
     "execution_count": 57,
     "metadata": {},
     "output_type": "execute_result"
    }
   ],
   "source": [
    "data = np.arange(0,10,2)\n",
    "data"
   ]
  },
  {
   "cell_type": "code",
   "execution_count": 59,
   "metadata": {},
   "outputs": [
    {
     "data": {
      "text/plain": [
       "array([ 0. ,  2.5,  5. ,  7.5, 10. ])"
      ]
     },
     "execution_count": 59,
     "metadata": {},
     "output_type": "execute_result"
    }
   ],
   "source": [
    "data = np.linspace(0,10,5)\n",
    "data "
   ]
  },
  {
   "cell_type": "markdown",
   "metadata": {},
   "source": [
    "##### - np.eye() : 단위 행렬 구성 \n",
    "- [API doc](https://docs.scipy.org/doc/numpy/reference/generated/numpy.eye.html)"
   ]
  },
  {
   "cell_type": "code",
   "execution_count": null,
   "metadata": {},
   "outputs": [],
   "source": [
    "# 3x3 단위 행렬 만들기\n",
    "np.eye(3)"
   ]
  },
  {
   "cell_type": "markdown",
   "metadata": {},
   "source": [
    "## NumPy 배열의 기초"
   ]
  },
  {
   "cell_type": "markdown",
   "metadata": {},
   "source": [
    "### 배열 속성 지정\n",
    "\n",
    "> 각 배열이 보유하고 있는 속성들\n",
    "\n",
    "1. ndim : 차원의 개수\n",
    "- shape : 각 차원의 크기\n",
    "- size : 전체 배열 크기"
   ]
  },
  {
   "cell_type": "code",
   "execution_count": null,
   "metadata": {},
   "outputs": [],
   "source": [
    "# 동일한 난수 배열이 생성되도록 시드값 설정\n",
    "np.random.seed(0)"
   ]
  },
  {
   "cell_type": "markdown",
   "metadata": {},
   "source": [
    "정수 범위내의 난수 발생해서 1차원~3차원 배열 생성해 보기"
   ]
  },
  {
   "cell_type": "code",
   "execution_count": null,
   "metadata": {},
   "outputs": [],
   "source": [
    "x1 = np.random.randint(10, size=6) # 1차원 배열\n",
    "x2 = np.random.randint(10, size=(3, 4)) # 2차원 배열\n",
    "x3 = np.random.randint(10, size=(3, 4, 5))# 3차원 배열"
   ]
  },
  {
   "cell_type": "code",
   "execution_count": null,
   "metadata": {},
   "outputs": [],
   "source": []
  },
  {
   "cell_type": "markdown",
   "metadata": {},
   "source": [
    "배열 indexing : 단일 요소 접근하기"
   ]
  },
  {
   "cell_type": "code",
   "execution_count": null,
   "metadata": {},
   "outputs": [],
   "source": []
  },
  {
   "cell_type": "markdown",
   "metadata": {},
   "source": [
    "### 배열의 색인과  슬라이싱 \n",
    "> x[start : stop : step] <br>\n",
    "하위 배열에 접근하기"
   ]
  },
  {
   "cell_type": "code",
   "execution_count": null,
   "metadata": {},
   "outputs": [],
   "source": []
  },
  {
   "cell_type": "markdown",
   "metadata": {},
   "source": [
    "### 데이터 복사 이해하기\n",
    "\n",
    "> NumPy는 대용량 데이터 처리를 염두해 두고 설계되었기 때문에 NumPy가 데이터 복사를 남발할 경우 성능과 메모리 문제 발생 가능성이 있음\n",
    "<br>\n",
    "별도의 복사된 데이터를 활용하고자 할 경우 copy() 함수 사용"
   ]
  },
  {
   "cell_type": "markdown",
   "metadata": {},
   "source": [
    "copy() 함수를 사용하지 않은 경우"
   ]
  },
  {
   "cell_type": "code",
   "execution_count": null,
   "metadata": {},
   "outputs": [],
   "source": []
  },
  {
   "cell_type": "markdown",
   "metadata": {},
   "source": [
    "copy() 함수를 사용한 경우"
   ]
  },
  {
   "cell_type": "code",
   "execution_count": null,
   "metadata": {},
   "outputs": [],
   "source": []
  },
  {
   "cell_type": "code",
   "execution_count": null,
   "metadata": {},
   "outputs": [],
   "source": []
  },
  {
   "cell_type": "markdown",
   "metadata": {},
   "source": [
    "> 다차원 하위 배열"
   ]
  },
  {
   "cell_type": "code",
   "execution_count": null,
   "metadata": {},
   "outputs": [],
   "source": [
    "x2 = np.random.randint(10, size=(3,4)) # 2차원 배열"
   ]
  },
  {
   "cell_type": "code",
   "execution_count": null,
   "metadata": {},
   "outputs": [],
   "source": []
  },
  {
   "cell_type": "markdown",
   "metadata": {},
   "source": [
    "> 배열의 재 구조화"
   ]
  },
  {
   "cell_type": "code",
   "execution_count": null,
   "metadata": {},
   "outputs": [],
   "source": [
    "# reshape() 메소드\n"
   ]
  },
  {
   "cell_type": "markdown",
   "metadata": {},
   "source": [
    "> 배열 연결 및 분할\n",
    "- 여러 배열을  하나로 결합 또는 하나의 배열을 여러 개의 배열로 분할하기\n",
    "- np.concatenate, np.vstack, np.hstack 루틴을 이용해 두 배열 결합 및 연결"
   ]
  },
  {
   "cell_type": "code",
   "execution_count": null,
   "metadata": {},
   "outputs": [],
   "source": []
  },
  {
   "cell_type": "markdown",
   "metadata": {},
   "source": [
    "> 혼합된 차원의 배열\n",
    "- 행의 수나 열의 수가 같은 두개 이상의 배열을 연결하여 더 큰 배열 생성하는  명령어\n",
    "- np.vstack : 수직 스택, vertical stack <br>\n",
    "- np.hstack : 수평 스택, horizontal stack\n",
    "- dstack : 제 3의 축, 즉 행이나 열이 아닌 깊이 방향으로 배열을 결합, 가장 안쪽의 원소 차원이 증가\n",
    "- stack : 사용자가 지정한 차원(축)으로 연결\n",
    "- r_ : hstack과 함께 배열을 좌우로 연결\n",
    "- c_ : 배열의 차원을 증가시킨 후 좌우로 연결, 가령 1차원 배열을 연결하면 2차원 배열이 됨\n",
    "- tile : 동일한 배열을 반복하여 연결"
   ]
  },
  {
   "cell_type": "code",
   "execution_count": null,
   "metadata": {},
   "outputs": [],
   "source": [
    "x = np.array([1,2,3])\n",
    "data = np.array([[5,6,7], [8,9,10]])"
   ]
  },
  {
   "cell_type": "code",
   "execution_count": null,
   "metadata": {},
   "outputs": [],
   "source": []
  },
  {
   "cell_type": "markdown",
   "metadata": {},
   "source": [
    "> 배열 분할하기\n",
    "- np.split, np.hsplit, np.vsplit"
   ]
  },
  {
   "cell_type": "code",
   "execution_count": null,
   "metadata": {},
   "outputs": [],
   "source": [
    "x = [1,2,3,100,100,3,2,1]"
   ]
  },
  {
   "cell_type": "markdown",
   "metadata": {},
   "source": [
    "> 전치 연산\n",
    "- 2차원 배열의 전치(transpose) 연산은 행과 열을 바꾸는 작업\n",
    "- 이는 배열의 T 속성으로 구할 수 있음\n",
    "- 메서드가 아닌 속성"
   ]
  },
  {
   "cell_type": "code",
   "execution_count": null,
   "metadata": {},
   "outputs": [],
   "source": [
    "data = np.array([[1, 2, 3], [4, 5, 6]])\n",
    "data"
   ]
  },
  {
   "cell_type": "code",
   "execution_count": null,
   "metadata": {},
   "outputs": [],
   "source": []
  },
  {
   "cell_type": "markdown",
   "metadata": {},
   "source": [
    "> 다차원 배열을 1차원으로 변환하기\n",
    "1. flatten or  ravel 함수 사용"
   ]
  },
  {
   "cell_type": "code",
   "execution_count": null,
   "metadata": {},
   "outputs": [],
   "source": [
    "data = np.arange(1,10,1)"
   ]
  },
  {
   "cell_type": "code",
   "execution_count": null,
   "metadata": {},
   "outputs": [],
   "source": []
  },
  {
   "cell_type": "markdown",
   "metadata": {},
   "source": [
    "### 벡터화 연산(vectorized operation)\n",
    "\n",
    "1.  배열 객체는 배열의 각 원소에 대한 반복 연산을 하나의 명령어로 처리\n",
    "- 일반 for 반복문 없이 한번의 연산으로 처리 가능\n",
    "- 실행 속도도 빠름\n",
    "- 비교 연산과 논리 연산을 포함한 모든 종류의 수학 연산에 대해 적용"
   ]
  },
  {
   "cell_type": "code",
   "execution_count": null,
   "metadata": {},
   "outputs": [],
   "source": [
    "# 일반 python 배열\n",
    "data = [0, 1, 2, 3, 4, 5]"
   ]
  },
  {
   "cell_type": "code",
   "execution_count": null,
   "metadata": {},
   "outputs": [],
   "source": [
    "# for 반복문을 사용힌 경우\n",
    "result = []\n",
    "for no in data:\n",
    "    result.append(no*2)\n",
    "result"
   ]
  },
  {
   "cell_type": "markdown",
   "metadata": {},
   "source": [
    "> NumPy는 벡터화 연산 사용시 빠른 연산 가능"
   ]
  },
  {
   "cell_type": "code",
   "execution_count": null,
   "metadata": {},
   "outputs": [],
   "source": [
    "x = np.array(data)\n",
    "x"
   ]
  },
  {
   "cell_type": "code",
   "execution_count": null,
   "metadata": {},
   "outputs": [],
   "source": [
    "x * 2"
   ]
  },
  {
   "cell_type": "markdown",
   "metadata": {},
   "source": [
    "> 일반 리스트 객체에 정수를 곱하면 객체의 크기가 정수배 만큼으로 증가"
   ]
  },
  {
   "cell_type": "code",
   "execution_count": null,
   "metadata": {},
   "outputs": [],
   "source": [
    "data = [1,2,3]\n",
    "data * 2"
   ]
  },
  {
   "cell_type": "markdown",
   "metadata": {},
   "source": [
    "> 벡터화 연산은 비교 연산과 논리 연산을 포함한 모든 종류의 수학 연산에 대해 적용"
   ]
  },
  {
   "cell_type": "code",
   "execution_count": null,
   "metadata": {},
   "outputs": [],
   "source": []
  },
  {
   "cell_type": "markdown",
   "metadata": {},
   "source": [
    "<!--NAVIGATION-->\n",
    "<[step02 NumPy 함수 학습](step02_NumpyFun.ipynb) >"
   ]
  }
 ],
 "metadata": {
  "kernelspec": {
   "display_name": "Python 3",
   "language": "python",
   "name": "python3"
  },
  "language_info": {
   "codemirror_mode": {
    "name": "ipython",
    "version": 3
   },
   "file_extension": ".py",
   "mimetype": "text/x-python",
   "name": "python",
   "nbconvert_exporter": "python",
   "pygments_lexer": "ipython3",
   "version": "3.6.5"
  }
 },
 "nbformat": 4,
 "nbformat_minor": 2
}
