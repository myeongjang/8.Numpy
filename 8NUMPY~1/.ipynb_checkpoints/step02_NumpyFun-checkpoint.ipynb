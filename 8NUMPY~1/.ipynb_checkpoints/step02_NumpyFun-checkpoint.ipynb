{
 "cells": [
  {
   "cell_type": "markdown",
   "metadata": {},
   "source": [
    "## NumPy 유니버설 함수"
   ]
  },
  {
   "cell_type": "markdown",
   "metadata": {},
   "source": [
    "1. ndrarray 내에 있는 데이터 원소별로 연산을 수행하는 함수\n",
    "\n",
    "- 하나 이상의 스칼라값을 받아서 하나 이상의 스칼라 결과값을 반환\n",
    "\n",
    "- 고속으로 수행할 수 있는 벡터화된 래퍼 함수\n",
    "\n",
    "- 함수 종류<br><br>\n",
    "&nbsp;&nbsp; 1. 단항 유니버설 함수 : 하나의 인자를 받아서 반환 <br>\n",
    "&nbsp;&nbsp; 2. 이항 유니버설 함수 : 두개의 인자를 받아서 단일 배열 반환\n",
    "    "
   ]
  },
  {
   "cell_type": "code",
   "execution_count": 1,
   "metadata": {},
   "outputs": [],
   "source": [
    "import numpy as np"
   ]
  },
  {
   "cell_type": "code",
   "execution_count": null,
   "metadata": {},
   "outputs": [],
   "source": []
  }
 ],
 "metadata": {
  "kernelspec": {
   "display_name": "Python 3",
   "language": "python",
   "name": "python3"
  },
  "language_info": {
   "codemirror_mode": {
    "name": "ipython",
    "version": 3
   },
   "file_extension": ".py",
   "mimetype": "text/x-python",
   "name": "python",
   "nbconvert_exporter": "python",
   "pygments_lexer": "ipython3",
   "version": "3.6.5"
  }
 },
 "nbformat": 4,
 "nbformat_minor": 2
}
